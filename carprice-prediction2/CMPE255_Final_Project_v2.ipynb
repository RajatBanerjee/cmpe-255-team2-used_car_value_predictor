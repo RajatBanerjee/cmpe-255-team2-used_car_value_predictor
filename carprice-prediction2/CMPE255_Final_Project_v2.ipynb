{
  "cells": [
    {
      "cell_type": "markdown",
      "metadata": {
        "id": "FhGuhbZ6M5tl"
      },
      "source": [
        "##### Copyright 2018 The TensorFlow Authors."
      ]
    },
    {
      "cell_type": "code",
      "execution_count": null,
      "metadata": {
        "cellView": "form",
        "id": "AwOEIRJC6Une"
      },
      "outputs": [],
      "source": [
        "#@title Licensed under the Apache License, Version 2.0 (the \"License\");\n",
        "# you may not use this file except in compliance with the License.\n",
        "# You may obtain a copy of the License at\n",
        "#\n",
        "# https://www.apache.org/licenses/LICENSE-2.0\n",
        "#\n",
        "# Unless required by applicable law or agreed to in writing, software\n",
        "# distributed under the License is distributed on an \"AS IS\" BASIS,\n",
        "# WITHOUT WARRANTIES OR CONDITIONS OF ANY KIND, either express or implied.\n",
        "# See the License for the specific language governing permissions and\n",
        "# limitations under the License."
      ]
    },
    {
      "cell_type": "code",
      "execution_count": null,
      "metadata": {
        "cellView": "form",
        "id": "KyPEtTqk6VdG"
      },
      "outputs": [],
      "source": [
        "#@title MIT License\n",
        "#\n",
        "# Copyright (c) 2017 François Chollet\n",
        "#\n",
        "# Permission is hereby granted, free of charge, to any person obtaining a\n",
        "# copy of this software and associated documentation files (the \"Software\"),\n",
        "# to deal in the Software without restriction, including without limitation\n",
        "# the rights to use, copy, modify, merge, publish, distribute, sublicense,\n",
        "# and/or sell copies of the Software, and to permit persons to whom the\n",
        "# Software is furnished to do so, subject to the following conditions:\n",
        "#\n",
        "# The above copyright notice and this permission notice shall be included in\n",
        "# all copies or substantial portions of the Software.\n",
        "#\n",
        "# THE SOFTWARE IS PROVIDED \"AS IS\", WITHOUT WARRANTY OF ANY KIND, EXPRESS OR\n",
        "# IMPLIED, INCLUDING BUT NOT LIMITED TO THE WARRANTIES OF MERCHANTABILITY,\n",
        "# FITNESS FOR A PARTICULAR PURPOSE AND NONINFRINGEMENT. IN NO EVENT SHALL\n",
        "# THE AUTHORS OR COPYRIGHT HOLDERS BE LIABLE FOR ANY CLAIM, DAMAGES OR OTHER\n",
        "# LIABILITY, WHETHER IN AN ACTION OF CONTRACT, TORT OR OTHERWISE, ARISING\n",
        "# FROM, OUT OF OR IN CONNECTION WITH THE SOFTWARE OR THE USE OR OTHER\n",
        "# DEALINGS IN THE SOFTWARE."
      ]
    },
    {
      "cell_type": "markdown",
      "metadata": {
        "id": "EIdT9iu_Z4Rb"
      },
      "source": [
        "# Basic regression: Predict vehicle price"
      ]
    },
    {
      "cell_type": "markdown",
      "metadata": {
        "id": "bBIlTPscrIT9"
      },
      "source": [
        "<table class=\"tfo-notebook-buttons\" align=\"left\">\n",
        "  <td>\n",
        "    <a target=\"_blank\" href=\"https://www.tensorflow.org/tutorials/keras/regression\"><img src=\"https://www.tensorflow.org/images/tf_logo_32px.png\" />View on TensorFlow.org</a>\n",
        "  </td>\n",
        "  <td>\n",
        "    <a target=\"_blank\" href=\"https://colab.research.google.com/github/tensorflow/docs/blob/master/site/en/tutorials/keras/regression.ipynb\"><img src=\"https://www.tensorflow.org/images/colab_logo_32px.png\" />Run in Google Colab</a>\n",
        "  </td>\n",
        "  <td>\n",
        "    <a target=\"_blank\" href=\"https://github.com/tensorflow/docs/blob/master/site/en/tutorials/keras/regression.ipynb\"><img src=\"https://www.tensorflow.org/images/GitHub-Mark-32px.png\" />View source on GitHub</a>\n",
        "  </td>\n",
        "  <td>\n",
        "    <a href=\"https://storage.googleapis.com/tensorflow_docs/docs/site/en/tutorials/keras/regression.ipynb\"><img src=\"https://www.tensorflow.org/images/download_logo_32px.png\" />Download notebook</a>\n",
        "  </td>\n",
        "</table>"
      ]
    },
    {
      "cell_type": "markdown",
      "metadata": {
        "id": "AHp3M9ZmrIxj"
      },
      "source": [
        "In a *regression* problem, the aim is to predict the output of a continuous value, like a price or a probability. Contrast this with a *classification* problem, where the aim is to select a class from a list of classes (for example, where a picture contains an apple or an orange, recognizing which fruit is in the picture).\n",
        "\n",
        "This tutorial uses the classic [Auto MPG](https://archive.ics.uci.edu/ml/datasets/auto+mpg) dataset and demonstrates how to build models to predict the fuel efficiency of the late-1970s and early 1980s automobiles. To do this, you will provide the models with a description of many automobiles from that time period. This description includes attributes like cylinders, displacement, horsepower, and weight.\n",
        "\n",
        "This example uses the Keras API. (Visit the Keras [tutorials](https://www.tensorflow.org/tutorials/keras) and [guides](https://www.tensorflow.org/guide/keras) to learn more.)"
      ]
    },
    {
      "cell_type": "code",
      "execution_count": null,
      "metadata": {
        "id": "moB4tpEHxKB3"
      },
      "outputs": [],
      "source": [
        "# Use seaborn for pairplot.\n",
        "!pip install -q seaborn"
      ]
    },
    {
      "cell_type": "code",
      "execution_count": null,
      "metadata": {
        "id": "1rRo8oNqZ-Rj"
      },
      "outputs": [],
      "source": [
        "import matplotlib.pyplot as plt\n",
        "import numpy as np\n",
        "import pandas as pd\n",
        "import seaborn as sns\n",
        "import pickle\n",
        "\n",
        "# Make NumPy printouts easier to read.\n",
        "np.set_printoptions(precision=3, suppress=True)"
      ]
    },
    {
      "cell_type": "code",
      "execution_count": null,
      "metadata": {
        "colab": {
          "base_uri": "https://localhost:8080/"
        },
        "id": "9xQKvCJ85kCQ",
        "outputId": "0d4b1f8e-8e94-4d12-8b99-c624c1076138"
      },
      "outputs": [],
      "source": [
        "import tensorflow as tf\n",
        "\n",
        "from tensorflow import keras\n",
        "from tensorflow.keras import layers\n",
        "\n",
        "print(tf.__version__)"
      ]
    },
    {
      "cell_type": "markdown",
      "metadata": {
        "id": "F_72b0LCNbjx"
      },
      "source": [
        "## The Auto MPG dataset\n",
        "\n",
        "The dataset is available from the [UCI Machine Learning Repository](https://archive.ics.uci.edu/ml/).\n"
      ]
    },
    {
      "cell_type": "markdown",
      "metadata": {
        "id": "gFh9ne3FZ-On"
      },
      "source": [
        "### Get the data\n",
        "First download and import the dataset using pandas:"
      ]
    },
    {
      "cell_type": "code",
      "execution_count": null,
      "metadata": {
        "id": "CiX2FI4gZtTt"
      },
      "outputs": [],
      "source": [
        "url = 'http://archive.ics.uci.edu/ml/machine-learning-databases/auto-mpg/auto-mpg.data'\n",
        "column_names = ['MPG', 'Cylinders', 'Displacement', 'Horsepower', 'Weight',\n",
        "                'Acceleration', 'Model Year', 'Origin']\n",
        "\n",
        "raw_dataset = pd.read_csv(url, names=column_names,\n",
        "                          na_values='?', comment='\\t',\n",
        "                          sep=' ', skipinitialspace=True)"
      ]
    },
    {
      "cell_type": "code",
      "execution_count": null,
      "metadata": {
        "colab": {
          "base_uri": "https://localhost:8080/",
          "height": 206
        },
        "id": "2oY3pMPagJrO",
        "outputId": "0708f65f-160d-48c1-be7a-faf7b105089e"
      },
      "outputs": [],
      "source": [
        "dataset = raw_dataset.copy()\n",
        "dataset.tail()"
      ]
    },
    {
      "cell_type": "code",
      "execution_count": null,
      "metadata": {
        "id": "PvIbONujRFS-"
      },
      "outputs": [],
      "source": [
        "# from google.colab import output\n",
        "# output.enable_custom_widget_manager()"
      ]
    },
    {
      "cell_type": "code",
      "execution_count": null,
      "metadata": {
        "colab": {
          "base_uri": "https://localhost:8080/"
        },
        "id": "GQJ4mbOUQ6qh",
        "outputId": "758a474b-9c7e-4415-aa52-e4a4469169c9"
      },
      "outputs": [],
      "source": [
        "## Use this in Google collab environement\n",
        "\n",
        "# from google.colab import drive\n",
        "# drive.mount('/content/drive', force_remount=True)\n",
        "# raw_dataset2 = pd.read_csv('/content/drive/Shareddrives/Runtimeterror/255/Sarinder + Rajat/vehicles.csv')\n",
        "\n",
        "### Use this in local environment\n",
        "raw_dataset2 = pd.read_csv('../data/vehicles.csv')\n"
      ]
    },
    {
      "cell_type": "markdown",
      "metadata": {
        "id": "3MWuJTKEDM-f"
      },
      "source": [
        "### Clean the data\n",
        "\n",
        "The dataset contains a few unknown values:"
      ]
    },
    {
      "cell_type": "code",
      "execution_count": null,
      "metadata": {
        "colab": {
          "base_uri": "https://localhost:8080/"
        },
        "id": "JEJHhN65a2VV",
        "outputId": "45662ae4-2201-4025-be4b-84c527554b0b"
      },
      "outputs": [],
      "source": [
        "dataset.isna().sum()"
      ]
    },
    {
      "cell_type": "markdown",
      "metadata": {
        "id": "9UPN0KBHa_WI"
      },
      "source": [
        "Drop those rows to keep this initial tutorial simple:"
      ]
    },
    {
      "cell_type": "code",
      "execution_count": null,
      "metadata": {
        "id": "4ZUDosChC1UN"
      },
      "outputs": [],
      "source": [
        "dataset = dataset.dropna()"
      ]
    },
    {
      "cell_type": "code",
      "execution_count": null,
      "metadata": {
        "colab": {
          "base_uri": "https://localhost:8080/"
        },
        "id": "LY9e8JnqUwqb",
        "outputId": "871af278-eb71-429f-f028-b6596150d72b"
      },
      "outputs": [],
      "source": [
        "df_vehicles = raw_dataset2.copy()\n",
        "df_vehicles = df_vehicles.drop(df_vehicles[df_vehicles.fuel != 'gas'].index)\n",
        "df_vehicles = df_vehicles.drop(df_vehicles[df_vehicles.title_status != 'clean'].index)\n",
        "df_vehicles = df_vehicles.drop(columns=['fuel', 'title_status', 'id', 'url', 'region', 'region_url', 'cylinders', 'model', 'size', 'image_url', 'description', 'county', 'lat', 'long', 'posting_date', 'transmission', 'VIN', 'drive', 'type', 'paint_color','state'])\n",
        "df_vehicles = df_vehicles.dropna()\n",
        "df_vehicles"
      ]
    },
    {
      "cell_type": "code",
      "execution_count": null,
      "metadata": {
        "colab": {
          "base_uri": "https://localhost:8080/"
        },
        "id": "CiEl9PdGbxz8",
        "outputId": "644a01b2-d4e5-412d-ffc6-7ded197be911"
      },
      "outputs": [],
      "source": [
        "df_vehicles.describe().transpose()"
      ]
    },
    {
      "cell_type": "code",
      "execution_count": null,
      "metadata": {
        "colab": {
          "base_uri": "https://localhost:8080/"
        },
        "id": "PslYq1Pub5F3",
        "outputId": "d14b2c9b-7e1d-43d8-cba2-110a6a8c58bf"
      },
      "outputs": [],
      "source": [
        "# eliminate outliers\n",
        "df_vehicles = df_vehicles.drop(df_vehicles[df_vehicles.odometer > 350000].index)\n",
        "df_vehicles = df_vehicles.drop(df_vehicles[df_vehicles.odometer < 35].index)\n",
        "df_vehicles = df_vehicles.drop(df_vehicles[df_vehicles.price > 50000].index)\n",
        "df_vehicles = df_vehicles.drop(df_vehicles[df_vehicles.price < 1000].index)\n",
        "df_vehicles = df_vehicles.drop(df_vehicles[df_vehicles.year < 1990].index)\n",
        "df_vehicles.describe().transpose()"
      ]
    },
    {
      "cell_type": "code",
      "execution_count": null,
      "metadata": {
        "colab": {
          "base_uri": "https://localhost:8080/"
        },
        "id": "96tvTX75ctxL",
        "outputId": "2738ad2e-a7a7-4817-bb7e-4ffdb6b27543"
      },
      "outputs": [],
      "source": [
        "df_vehicles.groupby('year').price.plot(kind='kde')"
      ]
    },
    {
      "cell_type": "code",
      "execution_count": null,
      "metadata": {
        "colab": {
          "base_uri": "https://localhost:8080/"
        },
        "id": "TweSkRlGWscd",
        "outputId": "73627b65-31f6-472f-f96f-2e343a5271c7"
      },
      "outputs": [],
      "source": [
        "# TODO - dropping these for now, don't really do this\n",
        "df_vehicles = df_vehicles.drop(df_vehicles[df_vehicles.manufacturer != 'toyota'].index)\n",
        "df_vehicles = df_vehicles.drop(columns=['manufacturer'])\n",
        "df_vehicles"
      ]
    },
    {
      "cell_type": "markdown",
      "metadata": {
        "id": "8XKitwaH4v8h"
      },
      "source": [
        "The `\"Origin\"` column is categorical, not numeric. So the next step is to one-hot encode the values in the column with [pd.get_dummies](https://pandas.pydata.org/docs/reference/api/pandas.get_dummies.html).\n",
        "\n",
        "Note: You can set up the `tf.keras.Model` to do this kind of transformation for you but that's beyond the scope of this tutorial. Check out the [Classify structured data using Keras preprocessing layers](../structured_data/preprocessing_layers.ipynb) or [Load CSV data](../load_data/csv.ipynb) tutorials for examples."
      ]
    },
    {
      "cell_type": "code",
      "execution_count": null,
      "metadata": {
        "id": "gWNTD2QjBWFJ"
      },
      "outputs": [],
      "source": [
        "dataset['Origin'] = dataset['Origin'].map({1: 'USA', 2: 'Europe', 3: 'Japan'})"
      ]
    },
    {
      "cell_type": "code",
      "execution_count": null,
      "metadata": {
        "colab": {
          "base_uri": "https://localhost:8080/"
        },
        "id": "ulXz4J7PAUzk",
        "outputId": "5618aa45-d12e-48a8-e331-256722f60760"
      },
      "outputs": [],
      "source": [
        "dataset = pd.get_dummies(dataset, columns=['Origin'], prefix='', prefix_sep='')\n",
        "dataset.tail()"
      ]
    },
    {
      "cell_type": "code",
      "execution_count": null,
      "metadata": {
        "colab": {
          "base_uri": "https://localhost:8080/"
        },
        "id": "bOhWbvFwaApl",
        "outputId": "a540e60c-e1c3-4817-b4f2-6aa439a4d91a"
      },
      "outputs": [],
      "source": [
        "def encode_and_bind(original_dataframe, feature_to_encode):\n",
        "    dummies = pd.get_dummies(original_dataframe[[feature_to_encode]])\n",
        "    res = pd.concat([original_dataframe, dummies], axis=1)\n",
        "    res = res.drop([feature_to_encode], axis=1)\n",
        "    return(res)\n",
        "\n",
        "one_hot_df = encode_and_bind(df_vehicles, 'condition')\n",
        "one_hot_df = encode_and_bind(one_hot_df, 'state')\n",
        "one_hot_df"
      ]
    },
    {
      "cell_type": "markdown",
      "metadata": {
        "id": "Cuym4yvk76vU"
      },
      "source": [
        "### Split the data into training and test sets\n",
        "\n",
        "Now, split the dataset into a training set and a test set. You will use the test set in the final evaluation of your models."
      ]
    },
    {
      "cell_type": "code",
      "execution_count": null,
      "metadata": {
        "id": "qn-IGhUE7_1H"
      },
      "outputs": [],
      "source": [
        "train_dataset = dataset.sample(frac=0.8, random_state=0)\n",
        "test_dataset = dataset.drop(train_dataset.index)"
      ]
    },
    {
      "cell_type": "code",
      "execution_count": null,
      "metadata": {
        "id": "Ko_btA-ka0bG"
      },
      "outputs": [],
      "source": [
        "train_dataset2 = one_hot_df.sample(frac=0.8, random_state=0)\n",
        "test_dataset2 = one_hot_df.drop(train_dataset2.index)"
      ]
    },
    {
      "cell_type": "markdown",
      "metadata": {
        "id": "J4ubs136WLNp"
      },
      "source": [
        "### Inspect the data\n",
        "\n",
        "Review the joint distribution of a few pairs of columns from the training set.\n",
        "\n",
        "The top row suggests that the fuel efficiency (MPG) is a function of all the other parameters. The other rows indicate they are functions of each other."
      ]
    },
    {
      "cell_type": "code",
      "execution_count": null,
      "metadata": {
        "colab": {
          "base_uri": "https://localhost:8080/"
        },
        "id": "oRKO_x8gWKv-",
        "outputId": "90b56429-3363-49c7-ae7d-0d3a35203d3b"
      },
      "outputs": [],
      "source": [
        "sns.pairplot(train_dataset[['MPG', 'Cylinders', 'Displacement', 'Weight']], diag_kind='kde')"
      ]
    },
    {
      "cell_type": "code",
      "execution_count": null,
      "metadata": {
        "colab": {
          "base_uri": "https://localhost:8080/"
        },
        "id": "_wqF0nt8bEEZ",
        "outputId": "87baf61f-1efa-47a6-9451-1666d35e03a0"
      },
      "outputs": [],
      "source": [
        "sns.pairplot(train_dataset2[['price', 'year', 'odometer']], diag_kind='kde')"
      ]
    },
    {
      "cell_type": "markdown",
      "metadata": {
        "id": "gavKO_6DWRMP"
      },
      "source": [
        "Let's also check the overall statistics. Note how each feature covers a very different range:"
      ]
    },
    {
      "cell_type": "code",
      "execution_count": null,
      "metadata": {
        "colab": {
          "base_uri": "https://localhost:8080/"
        },
        "id": "e3MC_R6ipFpB",
        "outputId": "973aabb3-5bdc-41c9-fe6c-18b93a1624f6"
      },
      "outputs": [],
      "source": [
        "# Increase the size of the heatmap.\n",
        "plt.figure(figsize=(16, 6))\n",
        "# Store heatmap object in a variable to easily access it when you want to include more features (such as title).\n",
        "# Set the range of values to be displayed on the colormap from -1 to 1, and set the annotation to True to display the correlation values on the heatmap.\n",
        "heatmap = sns.heatmap(train_dataset2.corr(), vmin=-1, vmax=1, annot=True)\n",
        "# Give a title to the heatmap. Pad defines the distance of the title from the top of the heatmap.\n",
        "heatmap.set_title('Correlation Heatmap', fontdict={'fontsize':12}, pad=12);"
      ]
    },
    {
      "cell_type": "code",
      "execution_count": null,
      "metadata": {
        "colab": {
          "base_uri": "https://localhost:8080/"
        },
        "id": "yi2FzC3T21jR",
        "outputId": "b6117608-db56-4a2b-9627-444f39060c89"
      },
      "outputs": [],
      "source": [
        "train_dataset.describe().transpose()"
      ]
    },
    {
      "cell_type": "code",
      "execution_count": null,
      "metadata": {
        "colab": {
          "base_uri": "https://localhost:8080/"
        },
        "id": "UYdeLLwLd-Bi",
        "outputId": "9607ac83-b4aa-4f3f-9afc-20dc151a56ab"
      },
      "outputs": [],
      "source": [
        "train_dataset2.describe().transpose()"
      ]
    },
    {
      "cell_type": "markdown",
      "metadata": {
        "id": "Db7Auq1yXUvh"
      },
      "source": [
        "### Split features from labels\n",
        "\n",
        "Separate the target value—the \"label\"—from the features. This label is the value that you will train the model to predict."
      ]
    },
    {
      "cell_type": "code",
      "execution_count": null,
      "metadata": {
        "id": "t2sluJdCW7jN"
      },
      "outputs": [],
      "source": [
        "train_features = train_dataset.copy()\n",
        "test_features = test_dataset.copy()\n",
        "\n",
        "train_labels = train_features.pop('MPG')\n",
        "test_labels = test_features.pop('MPG')"
      ]
    },
    {
      "cell_type": "code",
      "execution_count": null,
      "metadata": {
        "id": "w_W629GXeTT7"
      },
      "outputs": [],
      "source": [
        "train_features2 = train_dataset2.copy()\n",
        "test_features2 = test_dataset2.copy()\n",
        "\n",
        "train_labels2 = train_features2.pop('price')\n",
        "test_labels2 = test_features2.pop('price')"
      ]
    },
    {
      "cell_type": "markdown",
      "metadata": {
        "id": "mRklxK5s388r"
      },
      "source": [
        "## Normalization\n",
        "\n",
        "In the table of statistics it's easy to see how different the ranges of each feature are:"
      ]
    },
    {
      "cell_type": "code",
      "execution_count": null,
      "metadata": {
        "colab": {
          "base_uri": "https://localhost:8080/"
        },
        "id": "IcmY6lKKbkw8",
        "outputId": "e9815d43-adf7-4a53-8e26-8443e7a45c43"
      },
      "outputs": [],
      "source": [
        "train_dataset.describe().transpose()[['mean', 'std']]"
      ]
    },
    {
      "cell_type": "code",
      "execution_count": null,
      "metadata": {
        "colab": {
          "base_uri": "https://localhost:8080/"
        },
        "id": "M0wFQeWReezn",
        "outputId": "6b468399-9728-4fb9-ad91-83819266cc3e"
      },
      "outputs": [],
      "source": [
        "train_dataset2.describe().transpose()[['mean', 'std']]"
      ]
    },
    {
      "cell_type": "markdown",
      "metadata": {
        "id": "-ywmerQ6dSox"
      },
      "source": [
        "It is good practice to normalize features that use different scales and ranges.\n",
        "\n",
        "One reason this is important is because the features are multiplied by the model weights. So, the scale of the outputs and the scale of the gradients are affected by the scale of the inputs.\n",
        "\n",
        "Although a model *might* converge without feature normalization, normalization makes training much more stable.\n",
        "\n",
        "Note: There is no advantage to normalizing the one-hot features—it is done here for simplicity. For more details on how to use the preprocessing layers, refer to the [Working with preprocessing layers](https://www.tensorflow.org/guide/keras/preprocessing_layers) guide and the [Classify structured data using Keras preprocessing layers](../structured_data/preprocessing_layers.ipynb) tutorial."
      ]
    },
    {
      "cell_type": "markdown",
      "metadata": {
        "id": "aFJ6ISropeoo"
      },
      "source": [
        "### The Normalization layer\n",
        "\n",
        "The `tf.keras.layers.Normalization` is a clean and simple way to add feature normalization into your model.\n",
        "\n",
        "The first step is to create the layer:"
      ]
    },
    {
      "cell_type": "code",
      "execution_count": null,
      "metadata": {
        "id": "JlC5ooJrgjQF"
      },
      "outputs": [],
      "source": [
        "normalizer = tf.keras.layers.Normalization(axis=-1)"
      ]
    },
    {
      "cell_type": "markdown",
      "metadata": {
        "id": "XYA2Ap6nVOha"
      },
      "source": [
        "Then, fit the state of the preprocessing layer to the data by calling `Normalization.adapt`:"
      ]
    },
    {
      "cell_type": "code",
      "execution_count": null,
      "metadata": {
        "id": "CrBbbjbwV91f"
      },
      "outputs": [],
      "source": [
        "normalizer.adapt(np.array(train_features))"
      ]
    },
    {
      "cell_type": "markdown",
      "metadata": {
        "id": "oZccMR5yV9YV"
      },
      "source": [
        "Calculate the mean and variance, and store them in the layer:"
      ]
    },
    {
      "cell_type": "code",
      "execution_count": null,
      "metadata": {
        "colab": {
          "base_uri": "https://localhost:8080/"
        },
        "id": "GGn-ukwxSPtx",
        "outputId": "c293639a-3824-49b6-a7a7-18b2d1b9365b"
      },
      "outputs": [],
      "source": [
        "print(normalizer.mean.numpy())"
      ]
    },
    {
      "cell_type": "code",
      "execution_count": null,
      "metadata": {
        "colab": {
          "base_uri": "https://localhost:8080/"
        },
        "id": "qEaNjHRbe-S-",
        "outputId": "4e005fa4-cd31-46c3-d9ff-060d6983becb"
      },
      "outputs": [],
      "source": [
        "normalizer2 = tf.keras.layers.Normalization(axis=-1)\n",
        "normalizer2.adapt(np.array(train_features2))\n",
        "print(normalizer2.mean.numpy())"
      ]
    },
    {
      "cell_type": "markdown",
      "metadata": {
        "id": "oGWKaF9GSRuN"
      },
      "source": [
        "When the layer is called, it returns the input data, with each feature independently normalized:"
      ]
    },
    {
      "cell_type": "code",
      "execution_count": null,
      "metadata": {
        "colab": {
          "base_uri": "https://localhost:8080/"
        },
        "id": "2l7zFL_XWIRu",
        "outputId": "2c7d8113-8bce-458c-fde0-e637623bf468"
      },
      "outputs": [],
      "source": [
        "first = np.array(train_features[:1])\n",
        "\n",
        "with np.printoptions(precision=2, suppress=True):\n",
        "  print('First example:', first)\n",
        "  print()\n",
        "  print('Normalized:', normalizer(first).numpy())"
      ]
    },
    {
      "cell_type": "code",
      "execution_count": null,
      "metadata": {
        "colab": {
          "base_uri": "https://localhost:8080/"
        },
        "id": "uW1wDlW_eybE",
        "outputId": "09262160-a52f-4177-e362-87e9a0c8a946"
      },
      "outputs": [],
      "source": [
        "first2 = np.array(train_features2[:1])\n",
        "\n",
        "with np.printoptions(precision=2, suppress=True):\n",
        "  print('First example:', first2)\n",
        "  print()\n",
        "  print('Normalized:', normalizer2(first2).numpy())"
      ]
    },
    {
      "cell_type": "code",
      "execution_count": null,
      "metadata": {
        "colab": {
          "base_uri": "https://localhost:8080/"
        },
        "id": "-4MsMNEIOwQz",
        "outputId": "a0ec182c-df07-4da1-8275-847f5ac7ea49"
      },
      "outputs": [],
      "source": [
        "train_labels"
      ]
    },
    {
      "cell_type": "code",
      "execution_count": null,
      "metadata": {
        "colab": {
          "base_uri": "https://localhost:8080/"
        },
        "id": "Jty9M8lMfNxU",
        "outputId": "f3b079c9-1978-4dfd-e8a0-1a7728d91dc0"
      },
      "outputs": [],
      "source": [
        "train_labels2"
      ]
    },
    {
      "cell_type": "markdown",
      "metadata": {
        "id": "6o3CrycBXA2s"
      },
      "source": [
        "## Linear regression\n",
        "\n",
        "Before building a deep neural network model, start with linear regression using one and several variables."
      ]
    },
    {
      "cell_type": "markdown",
      "metadata": {
        "id": "lFby9n0tnHkw"
      },
      "source": [
        "### Linear regression with one variable\n",
        "\n",
        "Begin with a single-variable linear regression to predict `'MPG'` from `'Horsepower'`.\n",
        "\n",
        "Training a model with `tf.keras` typically starts by defining the model architecture. Use a `tf.keras.Sequential` model, which [represents a sequence of steps](https://www.tensorflow.org/guide/keras/sequential_model).\n",
        "\n",
        "There are two steps in your single-variable linear regression model:\n",
        "\n",
        "- Normalize the `'Horsepower'` input features using the `tf.keras.layers.Normalization` preprocessing layer.\n",
        "- Apply a linear transformation ($y = mx+b$) to produce 1 output using a linear layer (`tf.keras.layers.Dense`).\n",
        "\n",
        "The number of _inputs_ can either be set by the `input_shape` argument, or automatically when the model is run for the first time."
      ]
    },
    {
      "cell_type": "markdown",
      "metadata": {
        "id": "Xp3gAFn3TPv8"
      },
      "source": [
        "First, create a NumPy array made of the `'Horsepower'` features. Then, instantiate the `tf.keras.layers.Normalization` and fit its state to the `horsepower` data:"
      ]
    },
    {
      "cell_type": "code",
      "execution_count": null,
      "metadata": {
        "id": "1gJAy0fKs1TS"
      },
      "outputs": [],
      "source": [
        "horsepower = np.array(train_features['Horsepower'])\n",
        "\n",
        "horsepower_normalizer = layers.Normalization(input_shape=[1,], axis=None)\n",
        "horsepower_normalizer.adapt(horsepower)"
      ]
    },
    {
      "cell_type": "code",
      "execution_count": null,
      "metadata": {
        "id": "0HJV-JABfckO"
      },
      "outputs": [],
      "source": [
        "odometer = np.array(train_features2['odometer'])\n",
        "\n",
        "odometer_normalizer = layers.Normalization(input_shape=[1,], axis=None)\n",
        "odometer_normalizer.adapt(odometer)"
      ]
    },
    {
      "cell_type": "markdown",
      "metadata": {
        "id": "4NVlHJY2TWlC"
      },
      "source": [
        "Build the Keras Sequential model:"
      ]
    },
    {
      "cell_type": "code",
      "execution_count": null,
      "metadata": {
        "colab": {
          "base_uri": "https://localhost:8080/"
        },
        "id": "c0sXM7qLlKfZ",
        "outputId": "49397369-0c34-4a12-844e-a124595578d8"
      },
      "outputs": [],
      "source": [
        "horsepower_model = tf.keras.Sequential([\n",
        "    horsepower_normalizer,\n",
        "    layers.Dense(units=1)\n",
        "])\n",
        "\n",
        "horsepower_model.summary()"
      ]
    },
    {
      "cell_type": "code",
      "execution_count": null,
      "metadata": {
        "colab": {
          "base_uri": "https://localhost:8080/"
        },
        "id": "UaF14Hohfr8Z",
        "outputId": "1bc7935c-ec68-4881-cb2f-f0d181f884e3"
      },
      "outputs": [],
      "source": [
        "odometer_model = tf.keras.Sequential([\n",
        "    odometer_normalizer,\n",
        "    layers.Dense(units=1)\n",
        "])\n",
        "\n",
        "odometer_model.summary()"
      ]
    },
    {
      "cell_type": "markdown",
      "metadata": {
        "id": "eObQu9fDnXGL"
      },
      "source": [
        "This model will predict `'MPG'` from `'Horsepower'`.\n",
        "\n",
        "Run the untrained model on the first 10 'Horsepower' values. The output won't be good, but notice that it has the expected shape of `(10, 1)`:"
      ]
    },
    {
      "cell_type": "code",
      "execution_count": null,
      "metadata": {
        "colab": {
          "base_uri": "https://localhost:8080/"
        },
        "id": "UfV1HS6bns-s",
        "outputId": "3b14ef76-821c-4d3b-b4f8-a65277ca7e6e"
      },
      "outputs": [],
      "source": [
        "horsepower_model.predict(horsepower[:10])"
      ]
    },
    {
      "cell_type": "code",
      "execution_count": null,
      "metadata": {
        "colab": {
          "base_uri": "https://localhost:8080/"
        },
        "id": "ce3nTuXkgP7r",
        "outputId": "c841a431-bb88-4b40-be75-f4c1e0a8353b"
      },
      "outputs": [],
      "source": [
        "odometer_model.predict(odometer[:10])"
      ]
    },
    {
      "cell_type": "markdown",
      "metadata": {
        "id": "CSkanJlmmFBX"
      },
      "source": [
        "Once the model is built, configure the training procedure using the Keras `Model.compile` method. The most important arguments to compile are the `loss` and the `optimizer`, since these define what will be optimized (`mean_absolute_error`) and how (using the `tf.keras.optimizers.Adam`)."
      ]
    },
    {
      "cell_type": "code",
      "execution_count": null,
      "metadata": {
        "id": "JxA_3lpOm-SK"
      },
      "outputs": [],
      "source": [
        "horsepower_model.compile(\n",
        "    optimizer=tf.keras.optimizers.Adam(learning_rate=0.1),\n",
        "    loss='mean_absolute_error')"
      ]
    },
    {
      "cell_type": "code",
      "execution_count": null,
      "metadata": {
        "id": "XO8-Z7qbgW6p"
      },
      "outputs": [],
      "source": [
        "odometer_model.compile(\n",
        "    optimizer=tf.keras.optimizers.Adam(learning_rate=0.1),\n",
        "    #optimizer=tf.keras.optimizers.SGD(learning_rate=0.1),\n",
        "    loss='mean_absolute_error')"
      ]
    },
    {
      "cell_type": "markdown",
      "metadata": {
        "id": "Z3q1I9TwnRSC"
      },
      "source": [
        "Use Keras `Model.fit` to execute the training for 100 epochs:"
      ]
    },
    {
      "cell_type": "code",
      "execution_count": null,
      "metadata": {
        "colab": {
          "base_uri": "https://localhost:8080/"
        },
        "id": "-iSrNy59nRAp",
        "outputId": "5807c05d-73a5-4aad-e9f3-e25cd4329b94"
      },
      "outputs": [],
      "source": [
        "%%time\n",
        "history = horsepower_model.fit(\n",
        "    train_features['Horsepower'],\n",
        "    train_labels,\n",
        "    epochs=100,\n",
        "    # Suppress logging.\n",
        "    verbose=0,\n",
        "    # Calculate validation results on 20% of the training data.\n",
        "    validation_split = 0.2)"
      ]
    },
    {
      "cell_type": "code",
      "execution_count": null,
      "metadata": {
        "colab": {
          "base_uri": "https://localhost:8080/"
        },
        "id": "EGUhMf3Egei3",
        "outputId": "8023baf2-09fe-4aa4-8cb3-61e7bb854105"
      },
      "outputs": [],
      "source": [
        "%%time\n",
        "history2 = odometer_model.fit(\n",
        "    train_features2['odometer'],\n",
        "    train_labels2,\n",
        "    epochs=100,\n",
        "    # Suppress logging.\n",
        "    verbose=1,\n",
        "    # Calculate validation results on 20% of the training data.\n",
        "    validation_split = 0.2)"
      ]
    },
    {
      "cell_type": "markdown",
      "metadata": {
        "id": "tQm3pc0FYPQB"
      },
      "source": [
        "Visualize the model's training progress using the stats stored in the `history` object:"
      ]
    },
    {
      "cell_type": "code",
      "execution_count": null,
      "metadata": {
        "colab": {
          "base_uri": "https://localhost:8080/"
        },
        "id": "YCAwD_y4AdC3",
        "outputId": "214b97d3-949f-4326-a790-2f3dd118826b"
      },
      "outputs": [],
      "source": [
        "hist = pd.DataFrame(history.history)\n",
        "hist['epoch'] = history.epoch\n",
        "hist.tail()"
      ]
    },
    {
      "cell_type": "code",
      "execution_count": null,
      "metadata": {
        "colab": {
          "base_uri": "https://localhost:8080/"
        },
        "id": "vnXq785ag_ms",
        "outputId": "24fa0f3d-9c44-4ca7-eb8d-edd69b2b4a95"
      },
      "outputs": [],
      "source": [
        "hist2 = pd.DataFrame(history2.history)\n",
        "hist2['epoch'] = history2.epoch\n",
        "hist2.tail()"
      ]
    },
    {
      "cell_type": "code",
      "execution_count": null,
      "metadata": {
        "id": "9E54UoZunqhc"
      },
      "outputs": [],
      "source": [
        "def plot_loss(history):\n",
        "  plt.plot(history.history['loss'], label='loss')\n",
        "  plt.plot(history.history['val_loss'], label='val_loss')\n",
        "  plt.ylim([0, 10])\n",
        "  plt.xlabel('Epoch')\n",
        "  plt.ylabel('Error [MPG]')\n",
        "  plt.legend()\n",
        "  plt.grid(True)"
      ]
    },
    {
      "cell_type": "code",
      "execution_count": null,
      "metadata": {
        "colab": {
          "base_uri": "https://localhost:8080/"
        },
        "id": "yYsQYrIZyqjz",
        "outputId": "1830e26f-8911-4250-f868-0795abb4793f"
      },
      "outputs": [],
      "source": [
        "plot_loss(history)"
      ]
    },
    {
      "cell_type": "code",
      "execution_count": null,
      "metadata": {
        "colab": {
          "base_uri": "https://localhost:8080/"
        },
        "id": "rz3SqbBchKe5",
        "outputId": "2a271d58-102e-4a1d-81d8-8d7ff39bda1d"
      },
      "outputs": [],
      "source": [
        "def plot_loss2(history):\n",
        "  plt.plot(history.history['loss'], label='loss')\n",
        "  plt.plot(history.history['val_loss'], label='val_loss')\n",
        "  plt.ylim([0, 20000])\n",
        "  plt.xlabel('Epoch')\n",
        "  plt.ylabel('Error [price]')\n",
        "  plt.legend()\n",
        "  plt.grid(True)\n",
        "\n",
        "plot_loss2(history2)"
      ]
    },
    {
      "cell_type": "markdown",
      "metadata": {
        "id": "CMNrt8X2ebXd"
      },
      "source": [
        "Collect the results on the test set for later:"
      ]
    },
    {
      "cell_type": "code",
      "execution_count": null,
      "metadata": {
        "id": "kDZ8EvNYrDtx"
      },
      "outputs": [],
      "source": [
        "test_results = {}\n",
        "\n",
        "test_results['horsepower_model'] = horsepower_model.evaluate(\n",
        "    test_features['Horsepower'],\n",
        "    test_labels, verbose=0)"
      ]
    },
    {
      "cell_type": "code",
      "execution_count": null,
      "metadata": {
        "id": "FaErt0l3mOkC"
      },
      "outputs": [],
      "source": [
        "test_results2 = {}\n",
        "\n",
        "test_results2['odometer_model'] = odometer_model.evaluate(\n",
        "    test_features2['odometer'],\n",
        "    test_labels2, verbose=0)"
      ]
    },
    {
      "cell_type": "markdown",
      "metadata": {
        "id": "F0qutYAKwoda"
      },
      "source": [
        "Since this is a single variable regression, it's easy to view the model's predictions as a function of the input:"
      ]
    },
    {
      "cell_type": "code",
      "execution_count": null,
      "metadata": {
        "colab": {
          "base_uri": "https://localhost:8080/"
        },
        "id": "xDS2JEtOn9Jn",
        "outputId": "7e459be4-1b7a-48ed-c77c-8a2bb35f2aa6"
      },
      "outputs": [],
      "source": [
        "x = tf.linspace(0.0, 250, 251)\n",
        "y = horsepower_model.predict(x)"
      ]
    },
    {
      "cell_type": "code",
      "execution_count": null,
      "metadata": {
        "colab": {
          "base_uri": "https://localhost:8080/"
        },
        "id": "4hU_C38AmbZw",
        "outputId": "eba1d88e-22cd-4488-a30f-e1dae237a85e"
      },
      "outputs": [],
      "source": [
        "x2 = tf.linspace(0.0, 251000, 251000)\n",
        "y2 = odometer_model.predict(x2)"
      ]
    },
    {
      "cell_type": "code",
      "execution_count": null,
      "metadata": {
        "id": "rttFCTU8czsI"
      },
      "outputs": [],
      "source": [
        "def plot_horsepower(x, y):\n",
        "  plt.scatter(train_features['Horsepower'], train_labels, label='Data')\n",
        "  plt.plot(x, y, color='k', label='Predictions')\n",
        "  plt.xlabel('Horsepower')\n",
        "  plt.ylabel('MPG')\n",
        "  plt.legend()"
      ]
    },
    {
      "cell_type": "code",
      "execution_count": null,
      "metadata": {
        "colab": {
          "base_uri": "https://localhost:8080/"
        },
        "id": "7l9ZiAOEUNBL",
        "outputId": "615ff65d-d096-4f4c-f920-cd0cf577d0d1"
      },
      "outputs": [],
      "source": [
        "plot_horsepower(x, y)"
      ]
    },
    {
      "cell_type": "code",
      "execution_count": null,
      "metadata": {
        "colab": {
          "base_uri": "https://localhost:8080/"
        },
        "id": "vtqYhNPHmrZb",
        "outputId": "1295e3d4-5201-4357-a222-416a5f2a6000"
      },
      "outputs": [],
      "source": [
        "def plot_odometer(x, y):\n",
        "  plt.scatter(train_features2['odometer'], train_labels2, label='Data')\n",
        "  plt.plot(x, y, color='k', label='Predictions')\n",
        "  plt.xlabel('odometer')\n",
        "  plt.ylabel('price')\n",
        "  plt.legend()\n",
        "\n",
        "plot_odometer(x2, y2)"
      ]
    },
    {
      "cell_type": "markdown",
      "metadata": {
        "id": "iuO2vAGWppvl"
      },
      "source": [
        "# Try XGBoost regression"
      ]
    },
    {
      "cell_type": "code",
      "execution_count": null,
      "metadata": {
        "colab": {
          "base_uri": "https://localhost:8080/"
        },
        "id": "CDmyvLu_poeN",
        "outputId": "f9adf1bb-c55f-4699-c58d-c83457cba5ba"
      },
      "outputs": [],
      "source": [
        "import xgboost as xgb\n",
        "from sklearn.metrics import mean_squared_error\n",
        "\n",
        "#model = xgb.XGBRegressor(n_estimators=20, max_depth=800, tree_method=\"gpu_hist\", single_precision_histogram=True)\n",
        "model = xgb.XGBRegressor(n_estimators=40, max_depth=800, single_precision_histogram=True)\n",
        "model.fit(train_features2, train_labels2)\n",
        "train_preds2 = model.predict(train_features2)\n",
        "val_preds2 = model.predict(test_features2)\n",
        "error_train = mean_squared_error(train_labels2, train_preds2, squared=False)\n",
        "error_val = mean_squared_error(test_labels2, val_preds2, squared=False)\n",
        "print(\"RMS_error_train = {:.2f} ** RMS_error_val = {:.2f}\".format(error_train,error_val))"
      ]
    },
    {
      "cell_type": "markdown",
      "metadata": {
        "id": "Yk2RmlqPoM9u"
      },
      "source": [
        "### Linear regression with multiple inputs"
      ]
    },
    {
      "cell_type": "markdown",
      "metadata": {
        "id": "PribnwDHUksC"
      },
      "source": [
        "You can use an almost identical setup to make predictions based on multiple inputs. This model still does the same $y = mx+b$ except that $m$ is a matrix and $b$ is a vector.\n",
        "\n",
        "Create a two-step Keras Sequential model again with the first layer being `normalizer` (`tf.keras.layers.Normalization(axis=-1)`) you defined earlier and adapted to the whole dataset:"
      ]
    },
    {
      "cell_type": "code",
      "execution_count": null,
      "metadata": {
        "id": "ssnVcKg7oMe6"
      },
      "outputs": [],
      "source": [
        "linear_model = tf.keras.Sequential([\n",
        "    normalizer2,\n",
        "    layers.Dense(units=1)\n",
        "])"
      ]
    },
    {
      "cell_type": "markdown",
      "metadata": {
        "id": "IHlx6WeIWyAr"
      },
      "source": [
        "When you call `Model.predict` on a batch of inputs, it produces `units=1` outputs for each example:"
      ]
    },
    {
      "cell_type": "code",
      "execution_count": null,
      "metadata": {
        "colab": {
          "base_uri": "https://localhost:8080/"
        },
        "id": "DynfJV18WiuT",
        "outputId": "b1815685-fe6c-4f99-f6bf-ba77d844b549"
      },
      "outputs": [],
      "source": [
        "linear_model.predict(train_features2[:10])"
      ]
    },
    {
      "cell_type": "markdown",
      "metadata": {
        "id": "hvHKH3rPXHmq"
      },
      "source": [
        "When you call the model, its weight matrices will be built—check that the `kernel` weights (the $m$ in $y=mx+b$) have a shape of `(9, 1)`:"
      ]
    },
    {
      "cell_type": "code",
      "execution_count": null,
      "metadata": {
        "colab": {
          "base_uri": "https://localhost:8080/"
        },
        "id": "DwJ4Fq0RXBQf",
        "outputId": "eb9746ca-c95b-4616-d2f9-fa450277b9b3"
      },
      "outputs": [],
      "source": [
        "linear_model.layers[1].kernel"
      ]
    },
    {
      "cell_type": "markdown",
      "metadata": {
        "id": "eINAc6rZXzOt"
      },
      "source": [
        "Configure the model with Keras `Model.compile` and train with `Model.fit` for 100 epochs:"
      ]
    },
    {
      "cell_type": "code",
      "execution_count": null,
      "metadata": {
        "id": "A0Sv_Ybr0szp"
      },
      "outputs": [],
      "source": [
        "linear_model.compile(\n",
        "    optimizer=tf.keras.optimizers.Adam(learning_rate=10),\n",
        "    loss='mean_absolute_error')"
      ]
    },
    {
      "cell_type": "code",
      "execution_count": null,
      "metadata": {
        "colab": {
          "base_uri": "https://localhost:8080/"
        },
        "id": "EZoOYORvoTSe",
        "outputId": "56e80e53-6518-44be-aa59-d9a2c45aaa7d"
      },
      "outputs": [],
      "source": [
        "%%time\n",
        "history = linear_model.fit(\n",
        "    train_features2,\n",
        "    train_labels2,\n",
        "    epochs=100,\n",
        "    # Suppress logging.\n",
        "    verbose=1,\n",
        "    # Calculate validation results on 20% of the training data.\n",
        "    validation_split = 0.2)"
      ]
    },
    {
      "cell_type": "markdown",
      "metadata": {
        "id": "EdxiCbiNYK2F"
      },
      "source": [
        "Using all the inputs in this regression model achieves a much lower training and validation error than the `horsepower_model`, which had one input:"
      ]
    },
    {
      "cell_type": "code",
      "execution_count": null,
      "metadata": {
        "colab": {
          "base_uri": "https://localhost:8080/"
        },
        "id": "4sWO3W0koYgu",
        "outputId": "b5f44b48-56d3-491b-ad72-7eb60f8ba908"
      },
      "outputs": [],
      "source": [
        "plot_loss2(history)"
      ]
    },
    {
      "cell_type": "markdown",
      "metadata": {
        "id": "NyN49hIWe_NH"
      },
      "source": [
        "Collect the results on the test set for later:"
      ]
    },
    {
      "cell_type": "code",
      "execution_count": null,
      "metadata": {
        "colab": {
          "base_uri": "https://localhost:8080/"
        },
        "id": "jNC3D1DGsGgK",
        "outputId": "cb8cc1c3-e02c-40e8-9024-b7c638859195"
      },
      "outputs": [],
      "source": [
        "test_results2['linear_model'] = linear_model.evaluate(\n",
        "    test_features2, test_labels2, verbose=1)"
      ]
    },
    {
      "cell_type": "markdown",
      "metadata": {
        "id": "SmjdzxKzEu1-"
      },
      "source": [
        "## Regression with a deep neural network (DNN)"
      ]
    },
    {
      "cell_type": "markdown",
      "metadata": {
        "id": "DT_aHPsrzO1t"
      },
      "source": [
        "In the previous section, you implemented two linear models for single and multiple inputs.\n",
        "\n",
        "Here, you will implement single-input and multiple-input DNN models.\n",
        "\n",
        "The code is basically the same except the model is expanded to include some \"hidden\" non-linear layers. The name \"hidden\" here just means not directly connected to the inputs or outputs."
      ]
    },
    {
      "cell_type": "markdown",
      "metadata": {
        "id": "6SWtkIjhrZwa"
      },
      "source": [
        "These models will contain a few more layers than the linear model:\n",
        "\n",
        "* The normalization layer, as before (with `horsepower_normalizer` for a single-input model and `normalizer` for a multiple-input model).\n",
        "* Two hidden, non-linear, `Dense` layers with the ReLU (`relu`) activation function nonlinearity.\n",
        "* A linear `Dense` single-output layer.\n",
        "\n",
        "Both models will use the same training procedure, so the `compile` method is included in the `build_and_compile_model` function below."
      ]
    },
    {
      "cell_type": "code",
      "execution_count": null,
      "metadata": {
        "id": "c26juK7ZG8j-"
      },
      "outputs": [],
      "source": [
        "def build_and_compile_model(norm):\n",
        "  model = keras.Sequential([\n",
        "      norm,\n",
        "      layers.Dense(64, activation='relu'),\n",
        "      layers.Dense(64, activation='relu'),\n",
        "      layers.Dense(64, activation='relu'),\n",
        "      layers.Dense(64, activation='relu'),\n",
        "      layers.Dense(64, activation='relu'),\n",
        "      layers.Dense(64, activation='relu'),\n",
        "      layers.Dense(64, activation='relu'),\n",
        "      layers.Dense(1)\n",
        "  ])\n",
        "\n",
        "  model.compile(loss='mean_absolute_error',\n",
        "                optimizer=tf.keras.optimizers.Adam(0.01))\n",
        "  return model"
      ]
    },
    {
      "cell_type": "markdown",
      "metadata": {
        "id": "6c51caebbc0d"
      },
      "source": [
        "### Regression using a DNN and a single input"
      ]
    },
    {
      "cell_type": "markdown",
      "metadata": {
        "id": "xvu9gtxTZR5V"
      },
      "source": [
        "Create a DNN model with only `'Horsepower'` as input and `horsepower_normalizer` (defined earlier) as the normalization layer:"
      ]
    },
    {
      "cell_type": "code",
      "execution_count": null,
      "metadata": {
        "id": "cGbPb-PHGbhs"
      },
      "outputs": [],
      "source": [
        "dnn_odometer_model = build_and_compile_model(odometer_normalizer)"
      ]
    },
    {
      "cell_type": "markdown",
      "metadata": {
        "id": "Sj49Og4YGULr"
      },
      "source": [
        "This model has quite a few more trainable parameters than the linear models:"
      ]
    },
    {
      "cell_type": "code",
      "execution_count": null,
      "metadata": {
        "colab": {
          "base_uri": "https://localhost:8080/"
        },
        "id": "ReAD0n6MsFK-",
        "outputId": "696ca47a-a22b-4fcf-bbed-bc8312127bc9"
      },
      "outputs": [],
      "source": [
        "dnn_odometer_model.summary()"
      ]
    },
    {
      "cell_type": "markdown",
      "metadata": {
        "id": "0-qWCsh6DlyH"
      },
      "source": [
        "Train the model with Keras `Model.fit`:"
      ]
    },
    {
      "cell_type": "code",
      "execution_count": null,
      "metadata": {
        "colab": {
          "base_uri": "https://localhost:8080/"
        },
        "id": "sD7qHCmNIOY0",
        "outputId": "dac67d55-70fa-46e9-8252-21a71f9c09f6"
      },
      "outputs": [],
      "source": [
        "%%time\n",
        "history = dnn_odometer_model.fit(\n",
        "    train_features2['odometer'],\n",
        "    train_labels2,\n",
        "    validation_split=0.2,\n",
        "    verbose=1, epochs=100)"
      ]
    },
    {
      "cell_type": "markdown",
      "metadata": {
        "id": "dArGGxHxcKjN"
      },
      "source": [
        "This model does slightly better than the linear single-input `horsepower_model`:"
      ]
    },
    {
      "cell_type": "code",
      "execution_count": null,
      "metadata": {
        "colab": {
          "base_uri": "https://localhost:8080/",
          "height": 283
        },
        "id": "NcF6UWjdCU8T",
        "outputId": "f15e608f-0af5-4df3-a743-72a12145bfd0"
      },
      "outputs": [],
      "source": [
        "plot_loss2(history)"
      ]
    },
    {
      "cell_type": "markdown",
      "metadata": {
        "id": "TG1snlpR2QCK"
      },
      "source": [
        "If you plot the predictions as a function of `'Horsepower'`, you should notice how this model takes advantage of the nonlinearity provided by the hidden layers:"
      ]
    },
    {
      "cell_type": "code",
      "execution_count": null,
      "metadata": {
        "colab": {
          "base_uri": "https://localhost:8080/"
        },
        "id": "hPF53Rem14NS",
        "outputId": "748bd778-f862-4463-a8b2-b776568aa784"
      },
      "outputs": [],
      "source": [
        "x = tf.linspace(0.0, 250000, 251000)\n",
        "y = dnn_odometer_model.predict(x)"
      ]
    },
    {
      "cell_type": "code",
      "execution_count": null,
      "metadata": {
        "colab": {
          "base_uri": "https://localhost:8080/",
          "height": 279
        },
        "id": "rsf9rD8I17Wq",
        "outputId": "555608ec-f71c-4283-9d6a-acb528e9c70f"
      },
      "outputs": [],
      "source": [
        "plot_odometer(x, y)"
      ]
    },
    {
      "cell_type": "markdown",
      "metadata": {
        "id": "WxCJKIUpe4io"
      },
      "source": [
        "Collect the results on the test set for later:"
      ]
    },
    {
      "cell_type": "code",
      "execution_count": null,
      "metadata": {
        "id": "bJjM0dU52XtN"
      },
      "outputs": [],
      "source": [
        "test_results2['dnn_odometer_model'] = dnn_odometer_model.evaluate(\n",
        "    test_features2['odometer'], test_labels2,\n",
        "    verbose=0)"
      ]
    },
    {
      "cell_type": "markdown",
      "metadata": {
        "id": "S_2Btebp2e64"
      },
      "source": [
        "### Regression using a DNN and multiple inputs"
      ]
    },
    {
      "cell_type": "markdown",
      "metadata": {
        "id": "aKFtezDldLSf"
      },
      "source": [
        "Repeat the previous process using all the inputs. The model's performance slightly improves on the validation dataset."
      ]
    },
    {
      "cell_type": "code",
      "execution_count": null,
      "metadata": {
        "colab": {
          "base_uri": "https://localhost:8080/"
        },
        "id": "c0mhscXh2k36",
        "outputId": "8861a267-3940-4e27-cc32-ff79a1173f77"
      },
      "outputs": [],
      "source": [
        "dnn_model = build_and_compile_model(normalizer2)\n",
        "dnn_model.summary()"
      ]
    },
    {
      "cell_type": "code",
      "execution_count": null,
      "metadata": {
        "colab": {
          "base_uri": "https://localhost:8080/"
        },
        "id": "CXDENACl2tuW",
        "outputId": "c2301b5c-59a9-41ae-cd03-9abf6535d2e0"
      },
      "outputs": [],
      "source": [
        "%%time\n",
        "history = dnn_model.fit(\n",
        "    train_features2,\n",
        "    train_labels2,\n",
        "    validation_split=0.2,\n",
        "    verbose=1, epochs=100)"
      ]
    },
    {
      "cell_type": "code",
      "execution_count": null,
      "metadata": {
        "colab": {
          "base_uri": "https://localhost:8080/",
          "height": 283
        },
        "id": "-9Dbj0fX23RQ",
        "outputId": "8b2f4506-27d6-465f-e177-fe17876871f8"
      },
      "outputs": [],
      "source": [
        "plot_loss2(history)"
      ]
    },
    {
      "cell_type": "markdown",
      "metadata": {
        "id": "hWoVYS34fJPZ"
      },
      "source": [
        "Collect the results on the test set:"
      ]
    },
    {
      "cell_type": "code",
      "execution_count": null,
      "metadata": {
        "id": "-bZIa96W3c7K"
      },
      "outputs": [],
      "source": [
        "test_results2['dnn_model'] = dnn_model.evaluate(test_features2, test_labels2, verbose=0)"
      ]
    },
    {
      "cell_type": "markdown",
      "metadata": {
        "id": "uiCucdPLfMkZ"
      },
      "source": [
        "## Performance"
      ]
    },
    {
      "cell_type": "markdown",
      "metadata": {
        "id": "rDf1xebEfWBw"
      },
      "source": [
        "Since all models have been trained, you can review their test set performance:"
      ]
    },
    {
      "cell_type": "code",
      "execution_count": null,
      "metadata": {
        "colab": {
          "base_uri": "https://localhost:8080/",
          "height": 175
        },
        "id": "e5_ooufM5iH2",
        "outputId": "f1139689-a7c6-4f4f-9450-10c4b19e005f"
      },
      "outputs": [],
      "source": [
        "pd.DataFrame(test_results2, index=['Mean absolute error [price]']).T"
      ]
    },
    {
      "cell_type": "markdown",
      "metadata": {
        "id": "DABIVzsCf-QI"
      },
      "source": [
        "These results match the validation error observed during training."
      ]
    },
    {
      "cell_type": "markdown",
      "metadata": {
        "id": "ft603OzXuEZC"
      },
      "source": [
        "### Make predictions\n",
        "\n",
        "You can now make predictions with the `dnn_model` on the test set using Keras `Model.predict` and review the loss:"
      ]
    },
    {
      "cell_type": "code",
      "execution_count": null,
      "metadata": {
        "colab": {
          "base_uri": "https://localhost:8080/",
          "height": 301
        },
        "id": "Xe7RXH3N3CWU",
        "outputId": "b77afc15-f075-430e-e392-2d19ea4216c0"
      },
      "outputs": [],
      "source": [
        "test_predictions2 = dnn_model.predict(test_features2).flatten()\n",
        "\n",
        "a = plt.axes(aspect='equal')\n",
        "plt.scatter(test_labels2, test_predictions2)\n",
        "plt.xlabel('True Values [price]')\n",
        "plt.ylabel('Predictions [price]')\n",
        "lims = [0, 50000]\n",
        "plt.xlim(lims)\n",
        "plt.ylim(lims)\n",
        "_ = plt.plot(lims, lims, color='k')\n"
      ]
    },
    {
      "cell_type": "markdown",
      "metadata": {
        "id": "19wyogbOSU5t"
      },
      "source": [
        "It appears that the model predicts reasonably well.\n",
        "\n",
        "Now, check the error distribution:"
      ]
    },
    {
      "cell_type": "code",
      "execution_count": null,
      "metadata": {
        "colab": {
          "base_uri": "https://localhost:8080/",
          "height": 279
        },
        "id": "f-OHX4DiXd8x",
        "outputId": "e13e0a1f-770d-4411-9b26-3efc2063e7a8"
      },
      "outputs": [],
      "source": [
        "error = test_predictions2 - test_labels2\n",
        "plt.hist(error, bins=25)\n",
        "plt.xlabel('Prediction Error [price]')\n",
        "_ = plt.ylabel('Count')"
      ]
    },
    {
      "cell_type": "markdown",
      "metadata": {
        "id": "KSyaHUfDT-mZ"
      },
      "source": [
        "If you're happy with the model, save it for later use with `Model.save`:"
      ]
    },
    {
      "cell_type": "code",
      "execution_count": null,
      "metadata": {
        "id": "4-WwLlmfT-mb"
      },
      "outputs": [],
      "source": [
        "# dnn_model.save('/content/drive/Shareddrives/Runtimeterror/255/Sarinder + Rajat/dnn_model2')\n",
        "dnn_model.save('./dnn_model2')"
      ]
    },
    {
      "cell_type": "markdown",
      "metadata": {
        "id": "Benlnl8UT-me"
      },
      "source": [
        "If you reload the model, it gives identical output:"
      ]
    },
    {
      "cell_type": "code",
      "execution_count": null,
      "metadata": {
        "id": "dyyyj2zVT-mf"
      },
      "outputs": [],
      "source": [
        "# reloaded = tf.keras.models.load_model('/content/drive/Shareddrives/Runtimeterror/255/Sarinder + Rajat/dnn_model2')\n",
        "reloaded = tf.keras.models.load_model('./dnn_model2')\n",
        "test_results2['reloaded'] = reloaded.evaluate(\n",
        "    test_features2, test_labels2, verbose=0)"
      ]
    },
    {
      "cell_type": "code",
      "execution_count": null,
      "metadata": {
        "colab": {
          "base_uri": "https://localhost:8080/",
          "height": 206
        },
        "id": "f_GchJ2tg-2o",
        "outputId": "a3153cf6-4876-4998-f7fc-646f51f5a13b"
      },
      "outputs": [],
      "source": [
        "pd.DataFrame(test_results2, index=['Mean absolute error [price]']).T"
      ]
    },
    {
      "cell_type": "code",
      "execution_count": null,
      "metadata": {
        "colab": {
          "base_uri": "https://localhost:8080/",
          "height": 331
        },
        "id": "IDsWLH-lqsZE",
        "outputId": "f9dafbf3-c4f0-45b2-b77d-092df5a05d8a"
      },
      "outputs": [],
      "source": [
        "mse = mean_squared_error(test_labels2.to_numpy(), test_predictions2)\n",
        "print(\"MSE: \", mse)\n",
        "print(\"RMSE: \", mse**(1/2.0))\n",
        "\n",
        "x_ax = range(len(test_labels2.to_numpy()))\n",
        "plt.plot(x_ax, test_labels2.to_numpy(), label=\"original\")\n",
        "plt.plot(x_ax, test_predictions2, label=\"predicted\")\n",
        "plt.title(\"Used car Price test and predicted data\")\n",
        "plt.xlabel('X-axis')\n",
        "plt.ylabel('Y-axis')\n",
        "plt.legend(loc='best',fancybox=True, shadow=True)\n",
        "plt.grid(True)\n",
        "plt.show()"
      ]
    },
    {
      "cell_type": "code",
      "execution_count": null,
      "metadata": {
        "colab": {
          "base_uri": "https://localhost:8080/"
        },
        "id": "2Ib3F-4FrAaH",
        "outputId": "1b19dd82-b5b1-4d08-f3de-808ef9624def"
      },
      "outputs": [],
      "source": [
        "mean_err = test_labels2 - test_predictions2\n",
        "np.mean(mean_err)"
      ]
    },
    {
      "cell_type": "markdown",
      "metadata": {
        "id": "vgGQuV-yqYZH"
      },
      "source": [
        "## Conclusion\n",
        "\n",
        "This notebook introduced a few techniques to handle a regression problem. Here are a few more tips that may help:\n",
        "\n",
        "- Mean squared error (MSE) (`tf.keras.losses.MeanSquaredError`) and mean absolute error (MAE) (`tf.keras.losses.MeanAbsoluteError`) are common loss functions used for regression problems. MAE is less sensitive to outliers. Different loss functions are used for classification problems.\n",
        "- Similarly, evaluation metrics used for regression differ from classification.\n",
        "- When numeric input data features have values with different ranges, each feature should be scaled independently to the same range.\n",
        "- Overfitting is a common problem for DNN models, though it wasn't a problem for this tutorial. Visit the [Overfit and underfit](overfit_and_underfit.ipynb) tutorial for more help with this."
      ]
    },
    {
      "cell_type": "code",
      "execution_count": null,
      "metadata": {
        "colab": {
          "base_uri": "https://localhost:8080/"
        },
        "id": "mqtBAvLUJd-_",
        "outputId": "047adcf9-70e6-42b1-f7f3-bb615eade7dd"
      },
      "outputs": [],
      "source": [
        "for k in range(1,10):\n",
        "  from sklearn.neighbors import KNeighborsRegressor\n",
        "\n",
        "  # Instance and fit\n",
        "  knn_model = KNeighborsRegressor(n_neighbors=k).fit(train_features2, train_labels2)\n",
        "\n",
        "  # Score\n",
        "  score_knn = knn_model.score(test_features2, test_labels2)\n",
        "  print(k, score_knn)"
      ]
    },
    {
      "cell_type": "code",
      "execution_count": null,
      "metadata": {
        "id": "xnc3DrIfMN7p"
      },
      "outputs": [],
      "source": [
        "  knn_model = KNeighborsRegressor(n_neighbors=3).fit(train_features2, train_labels2)"
      ]
    },
    {
      "cell_type": "code",
      "execution_count": null,
      "metadata": {
        "colab": {
          "base_uri": "https://localhost:8080/",
          "height": 424
        },
        "id": "AOYdx9MgJsfr",
        "outputId": "e2a3d174-ef85-4468-d56e-e1c272155a4f"
      },
      "outputs": [],
      "source": [
        "# Predictions\n",
        "preds = knn_model.predict(test_features2)\n",
        "\n",
        "# Performance\n",
        "performance = pd.DataFrame({ 'True Value': test_labels2,\n",
        "                            'Prediction': preds,\n",
        "                            'Error': test_labels2 - preds})\n",
        "# View\n",
        "performance"
      ]
    },
    {
      "cell_type": "code",
      "execution_count": null,
      "metadata": {
        "colab": {
          "base_uri": "https://localhost:8080/",
          "height": 279
        },
        "id": "poQ9wq8wLtx2",
        "outputId": "378244c1-1dd7-4e6f-c0d7-6cb5df1b6c4d"
      },
      "outputs": [],
      "source": [
        "error = preds - test_labels2\n",
        "plt.hist(error, bins=25)\n",
        "plt.xlabel('Prediction Error [price]')\n",
        "_ = plt.ylabel('Count')"
      ]
    },
    {
      "cell_type": "code",
      "execution_count": null,
      "metadata": {
        "colab": {
          "base_uri": "https://localhost:8080/",
          "height": 283
        },
        "id": "gZTtABpAL6Lc",
        "outputId": "33483352-9d88-48e5-a29a-a4e83f178926"
      },
      "outputs": [],
      "source": [
        "a = plt.axes(aspect='equal')\n",
        "plt.scatter(test_labels2, preds)\n",
        "plt.xlabel('True Values [price]')\n",
        "plt.ylabel('Predictions [price]')\n",
        "lims = [0, 50000]\n",
        "plt.xlim(lims)\n",
        "plt.ylim(lims)\n",
        "_ = plt.plot(lims, lims, color='k')"
      ]
    },
    {
      "cell_type": "code",
      "execution_count": null,
      "metadata": {
        "colab": {
          "base_uri": "https://localhost:8080/"
        },
        "id": "VYc9yTOzlO10",
        "outputId": "49e8afb4-bbf6-4fac-efab-8faae664a0da"
      },
      "outputs": [],
      "source": [
        "mean_err = test_labels2 - preds\n",
        "np.mean(mean_err)"
      ]
    },
    {
      "cell_type": "code",
      "execution_count": null,
      "metadata": {
        "colab": {
          "base_uri": "https://localhost:8080/",
          "height": 331
        },
        "id": "HQCfwpe0rzKz",
        "outputId": "704aec56-4816-410a-ed50-0b48080a559d"
      },
      "outputs": [],
      "source": [
        "mse = mean_squared_error(test_labels2.to_numpy(), preds)\n",
        "print(\"MSE: \", mse)\n",
        "print(\"RMSE: \", mse**(1/2.0))\n",
        "\n",
        "x_ax = range(len(test_labels2.to_numpy()))\n",
        "plt.plot(x_ax, test_labels2.to_numpy(), label=\"original\")\n",
        "plt.plot(x_ax, preds, label=\"predicted\")\n",
        "plt.title(\"Used car Price test and predicted data\")\n",
        "plt.xlabel('X-axis')\n",
        "plt.ylabel('Y-axis')\n",
        "plt.legend(loc='best',fancybox=True, shadow=True)\n",
        "plt.grid(True)\n",
        "plt.show()"
      ]
    },
    {
      "cell_type": "code",
      "execution_count": null,
      "metadata": {
        "colab": {
          "base_uri": "https://localhost:8080/",
          "height": 238
        },
        "id": "fxV4qfjMlT7f",
        "outputId": "cce03f3d-d66a-4167-f623-c7a5e9243837"
      },
      "outputs": [],
      "source": [
        "pd.DataFrame(test_results2, index=['Mean absolute error [price]']).T"
      ]
    },
    {
      "cell_type": "code",
      "execution_count": null,
      "metadata": {
        "colab": {
          "base_uri": "https://localhost:8080/"
        },
        "id": "t6PX7T5kNRDt",
        "outputId": "45f3a181-68ff-4318-bc36-399e3ba3a00b"
      },
      "outputs": [],
      "source": [
        "knn_model"
      ]
    },
    {
      "cell_type": "code",
      "execution_count": null,
      "metadata": {
        "colab": {
          "base_uri": "https://localhost:8080/",
          "height": 424
        },
        "id": "aCOXCqDvfzY8",
        "outputId": "1c4fa46e-056d-4a1b-fb8d-693ff17fe38f"
      },
      "outputs": [],
      "source": [
        "# Fitting Decision Tree Regression to the dataset\n",
        "from sklearn.tree import DecisionTreeRegressor\n",
        "regressor = DecisionTreeRegressor()\n",
        "regressor.fit(train_features2, train_labels2)\n",
        "\n",
        "y_pred = regressor.predict(test_features2)\n",
        "\n",
        "df = pd.DataFrame({'Real Values':test_labels2, 'Predicted Values':y_pred})\n",
        "df"
      ]
    },
    {
      "cell_type": "code",
      "execution_count": null,
      "metadata": {
        "colab": {
          "base_uri": "https://localhost:8080/",
          "height": 279
        },
        "id": "gTXHGNcxkhk2",
        "outputId": "f99fb8c4-9f73-4f78-eb86-195b76ccc5fd"
      },
      "outputs": [],
      "source": [
        "error = y_pred - test_labels2\n",
        "plt.hist(error, bins=25)\n",
        "plt.xlabel('Prediction Error [price]')\n",
        "_ = plt.ylabel('Count')"
      ]
    },
    {
      "cell_type": "code",
      "execution_count": null,
      "metadata": {
        "colab": {
          "base_uri": "https://localhost:8080/",
          "height": 283
        },
        "id": "ULIFvEz0krJz",
        "outputId": "28d8f812-bd4b-4d91-c6ca-a7bb8c2b193a"
      },
      "outputs": [],
      "source": [
        "a = plt.axes(aspect='equal')\n",
        "plt.scatter(test_labels2, y_pred)\n",
        "plt.xlabel('True Values [price]')\n",
        "plt.ylabel('Predictions [price]')\n",
        "lims = [0, 50000]\n",
        "plt.xlim(lims)\n",
        "plt.ylim(lims)\n",
        "_ = plt.plot(lims, lims, color='k')"
      ]
    },
    {
      "cell_type": "code",
      "execution_count": null,
      "metadata": {
        "colab": {
          "base_uri": "https://localhost:8080/"
        },
        "id": "fqKTOd50mCUM",
        "outputId": "6fbe60d3-341a-472b-9be6-a43555049735"
      },
      "outputs": [],
      "source": [
        "np.mean(error)"
      ]
    },
    {
      "cell_type": "code",
      "execution_count": null,
      "metadata": {
        "colab": {
          "base_uri": "https://localhost:8080/"
        },
        "id": "JSJsw6ijnUNr",
        "outputId": "6ad15139-bad8-4deb-d173-b99e852f0f58"
      },
      "outputs": [],
      "source": [
        "ypred = regressor.predict(test_features2)\n",
        "ypred"
      ]
    },
    {
      "cell_type": "code",
      "execution_count": null,
      "metadata": {
        "colab": {
          "base_uri": "https://localhost:8080/"
        },
        "id": "ZeNuFxf7op8q",
        "outputId": "0da345ae-f8e6-4f8e-da2e-1db307ab1622"
      },
      "outputs": [],
      "source": [
        "test_labels2.to_numpy()"
      ]
    },
    {
      "cell_type": "code",
      "execution_count": null,
      "metadata": {
        "colab": {
          "base_uri": "https://localhost:8080/",
          "height": 317
        },
        "id": "Ij3PILVwm2Ef",
        "outputId": "cb0e618e-00eb-4b69-8042-9e792e416e52"
      },
      "outputs": [],
      "source": [
        "mse = mean_squared_error(test_labels2.to_numpy(), ypred)\n",
        "print(\"MSE: \", mse)\n",
        "print(\"RMSE: \", mse**(1/2.0))\n",
        "\n",
        "x_ax = range(len(test_labels2.to_numpy()))\n",
        "#plt.plot(x_ax, test_labels2.to_numpy(), label=\"original\")\n",
        "#plt.plot(x_ax, ypred, label=\"predicted\")\n",
        "plt.plot(x_ax, np.absolute(ypred-test_labels2.to_numpy())/1000, label=\"error\")\n",
        "plt.plot(x_ax, np.absolute(ypred-test_labels2.to_numpy())/test_labels2.to_numpy(), label=\"error %\")\n",
        "plt.title(\"Used car Price test and predicted data\")\n",
        "plt.ylabel('price (thousands $)')\n",
        "plt.legend(loc='best',fancybox=True, shadow=True)\n",
        "plt.grid(True)\n",
        "plt.show()"
      ]
    },
    {
      "cell_type": "markdown",
      "metadata": {},
      "source": [
        "#### Pickle the model"
      ]
    },
    {
      "cell_type": "code",
      "execution_count": null,
      "metadata": {},
      "outputs": [],
      "source": [
        "with open('saved_model_decision_tree.pkl', 'wb') as file:\n",
        "    pickle.dump(regressor, file)"
      ]
    }
  ],
  "metadata": {
    "colab": {
      "provenance": []
    },
    "kernelspec": {
      "display_name": "Python 3.7.9 64-bit",
      "language": "python",
      "name": "python3"
    },
    "language_info": {
      "codemirror_mode": {
        "name": "ipython",
        "version": 3
      },
      "file_extension": ".py",
      "mimetype": "text/x-python",
      "name": "python",
      "nbconvert_exporter": "python",
      "pygments_lexer": "ipython3",
      "version": "3.7.9"
    },
    "vscode": {
      "interpreter": {
        "hash": "aee8b7b246df8f9039afb4144a1f6fd8d2ca17a180786b69acc140d282b71a49"
      }
    }
  },
  "nbformat": 4,
  "nbformat_minor": 0
}
